{
 "cells": [
  {
   "cell_type": "code",
   "execution_count": null,
   "id": "d2c06e6f",
   "metadata": {},
   "outputs": [],
   "source": [
    "# importations\n",
    "import numpy as np\n",
    "import pandas as pd\n",
    "import matplotlib.pyplot as plt\n",
    "%matplotlib inline\n",
    "import seaborn as sns\n",
    "plt.style.use('fivethirtyeight')\n",
    "df=pd.read_csv('Sample - Superstore.csv')\n",
    "# encoding='utf-8'\n",
    "\n",
    "df.head(2)\n"
   ]
  },
  {
   "cell_type": "code",
   "execution_count": null,
   "id": "46e90160",
   "metadata": {},
   "outputs": [],
   "source": [
    "# information about our dataframe\n",
    "df.info()"
   ]
  },
  {
   "cell_type": "code",
   "execution_count": null,
   "id": "75e1ee81",
   "metadata": {},
   "outputs": [],
   "source": [
    "# assign the columns to a new dataframe data\n",
    "data=df[['Ship Mode','Segment', 'City','Sales','Quantity','Discount','Profit']]\n",
    "data"
   ]
  },
  {
   "cell_type": "code",
   "execution_count": null,
   "id": "c12202f1",
   "metadata": {},
   "outputs": [],
   "source": [
    "# numerical description of the numerical data in the dataframr\n",
    "data.describe()"
   ]
  },
  {
   "cell_type": "code",
   "execution_count": null,
   "id": "0c03b02e",
   "metadata": {},
   "outputs": [],
   "source": [
    "# group by city to find te sum ,mean\n",
    "data.groupby('City').Sales.agg(['sum','mean','min','max','count','median','std','var']).head()"
   ]
  },
  {
   "cell_type": "code",
   "execution_count": null,
   "id": "191116e0",
   "metadata": {},
   "outputs": [],
   "source": [
    "# visualizations\n",
    "#Boxplots showing the distibutions of numerical values in data dataframe\n",
    "# by displaying the data quartiles and averages\n",
    "fig, axs = plt.subplots(4,1) \n",
    "fig.set_size_inches(9,15) \n",
    "sns.boxplot(data= data['Sales'],ax=axs[0]) \n",
    "axs[0].set_title('Sales')                         \n",
    "sns.boxplot(data=data['Quantity'],ax=axs[1])\n",
    "axs[1].set_title('Quantity')\n",
    "sns.boxplot(data=data['Profit'],ax=axs[2])\n",
    "axs[2].set_title('Profit')\n",
    "sns.boxplot(data=data['Discount'],ax=axs[3])\n",
    "axs[3].set_title('Discount')\n",
    "plt.show()\n"
   ]
  },
  {
   "cell_type": "code",
   "execution_count": null,
   "id": "f021a01a",
   "metadata": {},
   "outputs": [],
   "source": [
    "# Boxplot\n",
    "# all have outliers\n",
    "# sales and profit have the most outliers\n",
    "data.plot(kind='box',subplots=True,layout=(4,3),sharex=False,sharey=False)\n",
    "plt.rcParams['figure.figsize']=[20,16]\n",
    "plt.show()"
   ]
  },
  {
   "cell_type": "markdown",
   "id": "0e767450",
   "metadata": {},
   "source": [
    "Histograms to show distribution"
   ]
  },
  {
   "cell_type": "code",
   "execution_count": null,
   "id": "e7539656",
   "metadata": {},
   "outputs": [],
   "source": [
    "# histogram to show distribution of Shipmode\n",
    "# frequency of an occurence\n",
    "\n",
    "sns.set_style('whitegrid')\n",
    "sns.histplot(x=data['Ship Mode'],bins=10,data=data,binwidth=3,shrink=0.6,hue='Segment')\n",
    "plt.show()"
   ]
  },
  {
   "cell_type": "code",
   "execution_count": null,
   "id": "64a18276",
   "metadata": {},
   "outputs": [],
   "source": [
    "# which ship mode offers a high discount\n",
    "sns.histplot(x=df['Discount'],data=df,kde=True,hue='Ship Mode',stat='density')\n",
    "plt.show()"
   ]
  },
  {
   "cell_type": "code",
   "execution_count": null,
   "id": "0a7d495c",
   "metadata": {},
   "outputs": [],
   "source": [
    "# which shipmode makes a lot of sales\n",
    "sns.displot(x=data['Sales'],data=df,col='Ship Mode',kde=True,lw=0.8,common_norm=False)\n",
    "plt.show()"
   ]
  },
  {
   "cell_type": "code",
   "execution_count": null,
   "id": "845e45ff",
   "metadata": {},
   "outputs": [],
   "source": [
    "# which ship mode makes a lot of profit\n",
    "sns.displot(x=data['Profit'],data=data,col='Ship Mode',kde=True,lw=0.8,common_norm=False)\n",
    "plt.show()"
   ]
  },
  {
   "cell_type": "code",
   "execution_count": null,
   "id": "0f24421f",
   "metadata": {},
   "outputs": [],
   "source": [
    "# from which segment is alot of sales gotten from\n",
    "# Most sales is gotten from the consumers\n",
    "# the least sales is gotten from the home office segment\n",
    "sns.displot(x=data['Sales'],data=data,col='Segment',kde=False,lw=0.8,common_norm=False)\n",
    "plt.tight_layout()\n",
    "plt.show()"
   ]
  },
  {
   "cell_type": "code",
   "execution_count": null,
   "id": "8d49d449",
   "metadata": {},
   "outputs": [],
   "source": [
    "# distribution of the ship modes used\n",
    "# shows which segment use a particular ship mode least or most\n",
    "\n",
    "sns.histplot(x=df['Ship Mode'],bins=10,data=df,shrink=0.6,hue='Segment',palette=['Black','Blue','orange'])\n",
    "plt.show()"
   ]
  },
  {
   "cell_type": "code",
   "execution_count": null,
   "id": "25cd3afa",
   "metadata": {},
   "outputs": [],
   "source": [
    "# distribution of the shipping modes with the quantity of goods shipped \n",
    "sns.displot(x=data['Quantity'],data=data,col='Ship Mode',kde=True,lw=0.8,common_norm=False)\n",
    "plt.show()"
   ]
  },
  {
   "cell_type": "code",
   "execution_count": null,
   "id": "d74a9868",
   "metadata": {},
   "outputs": [],
   "source": [
    "#Standard class mode used shipment mode used mostly\n",
    "# the segment that order products is The consumer segment\n",
    "sns.displot(x=data['Segment'],data=data,col='Ship Mode',kde=True,lw=0.8,common_norm=False)\n",
    "plt.tight_layout()\n",
    "plt.show()"
   ]
  },
  {
   "cell_type": "code",
   "execution_count": null,
   "id": "9f32fa08",
   "metadata": {},
   "outputs": [],
   "source": [
    "#showing the distribution of segment \n",
    "sns.histplot(x=df['Segment'],bins=10,data=df,shrink=0.8,color='blue')\n",
    "plt.title('Segment')\n",
    "plt.xlabel('Segment')\n",
    "plt.ylabel('count')\n",
    "plt.show()"
   ]
  },
  {
   "cell_type": "code",
   "execution_count": null,
   "id": "960056aa",
   "metadata": {},
   "outputs": [],
   "source": [
    "# plt.show()\n",
    "sns.histplot(x=df['Sales'],bins=10,shrink=0.8)\n",
    "plt.title('Sales')\n",
    "plt.show()"
   ]
  },
  {
   "cell_type": "code",
   "execution_count": null,
   "id": "9c59b06e",
   "metadata": {},
   "outputs": [],
   "source": [
    "#Histogram to show the distribution of quantities of the products shipped\n",
    "# shows skewed distributions\n",
    "sns.histplot(x=df['Quantity'],bins=10,kde=True)\n",
    "plt.title('Quantity')\n",
    "plt.show()"
   ]
  },
  {
   "cell_type": "code",
   "execution_count": null,
   "id": "e6c153ce",
   "metadata": {},
   "outputs": [],
   "source": [
    "# dataset has skewed distribution\n",
    "sns.displot(x=df['Quantity'],kind='kde',lw=0.8)\n",
    "plt.title('Quantity')\n",
    "plt.show()"
   ]
  },
  {
   "cell_type": "code",
   "execution_count": null,
   "id": "42cc05f1",
   "metadata": {},
   "outputs": [],
   "source": [
    "sns.histplot(x=df['Discount'],bins=10)\n",
    "plt.title('Discount')\n",
    "plt.show()"
   ]
  },
  {
   "cell_type": "code",
   "execution_count": null,
   "id": "6c1c26ec",
   "metadata": {},
   "outputs": [],
   "source": [
    "sns.histplot(df['Profit'],bins=10)\n",
    "plt.title('Profit')\n",
    "plt.show()"
   ]
  },
  {
   "cell_type": "code",
   "execution_count": null,
   "id": "44ed63fa",
   "metadata": {},
   "outputs": [],
   "source": [
    "# distribution of data using a histogram for each column with numerical data in the subset data\n",
    "# Visualize all the histograms for each column with numerical data in the subset data\n",
    "data.hist(bins=30,figsize=(18,16),alpha=0.8)\n",
    "plt.show()"
   ]
  },
  {
   "cell_type": "code",
   "execution_count": null,
   "id": "7cc6112f",
   "metadata": {},
   "outputs": [],
   "source": [
    "# sns.pairplot(df,hue='Ship Mode')\n",
    "# plt.show()\n",
    "\n",
    "sns.pairplot(df,hue='Category')\n",
    "plt.show()\n",
    "\n",
    "# used to understand the best set of features to explain a relationship btw two variables or to form the most separated clusters\n",
    "# enhance understanding with a single plot"
   ]
  },
  {
   "cell_type": "code",
   "execution_count": null,
   "id": "ca0d439f",
   "metadata": {},
   "outputs": [],
   "source": [
    "data['Ship Mode'].unique()\n",
    "# distributions of the ship mode\n",
    "data['Ship Mode'].value_counts()"
   ]
  },
  {
   "cell_type": "code",
   "execution_count": null,
   "id": "7008a36f",
   "metadata": {},
   "outputs": [],
   "source": [
    "# subsetbased on quantity and city\n",
    "a=data[['Quantity','City']]\n",
    "a\n",
    "# Distribution of quantity across the cities\n",
    "# df[['Quantity','City']].value_counts()"
   ]
  },
  {
   "cell_type": "code",
   "execution_count": null,
   "id": "5e5cbe7b",
   "metadata": {},
   "outputs": [],
   "source": [
    "# Distribution of sales\n",
    "data.groupby(['City','Quantity'],as_index=False)['Sales'].sum()\n"
   ]
  },
  {
   "cell_type": "code",
   "execution_count": null,
   "id": "40f4710f",
   "metadata": {},
   "outputs": [],
   "source": [
    "# Quantity_sales subset\n",
    "Quant_sales = {}\n",
    "Quantity_sales =data[['Quantity','Sales']]\n",
    "for i in Quantity_sales.Quantity.unique():\n",
    "    Quant_sales[i] = [data['Sales'][v] for v in data[data[\"Quantity\"] == i].index]\n",
    "\n",
    "Total_sales ={}\n",
    "for key, value in Quant_sales.items():\n",
    "    Total_sales[key] = sum(value)\n",
    "\n",
    "sale_T = Total_sales.items()\n",
    "Sorted_sales = sorted(sale_T, key=lambda x: x[0])\n",
    "x = dict(Sorted_sales).keys()\n",
    "y = dict(Sorted_sales).values()\n",
    "\n",
    "\n",
    "fig, ax = plt.subplots()\n",
    "ax.bar(x,y)\n",
    "ax.set_ylabel('Total sales')\n",
    "ax.set_xlabel('Quantity levels')\n",
    "# ax.set_xticklabels(np.arange(0,15,1)+1)\n",
    "ax.set_title('Sales distribution per quantity');\n",
    "\n",
    "# The result shows that sales were high for quantity levels 3 and 4 beyond 400000 sales in total for each\n",
    "# Low sales are recorded for quantities 1,10,11,12,13 and 14 have 50000 and below sales"
   ]
  },
  {
   "cell_type": "code",
   "execution_count": null,
   "id": "54e17126",
   "metadata": {},
   "outputs": [],
   "source": [
    "# City_sales distribution\n",
    "City_sales = {}\n",
    "city_sales =data[['City','Sales']]\n",
    "for i in city_sales.City.unique():\n",
    "    City_sales[i] = [data['Sales'][v] for v in data[data[\"City\"] == i].index]\n",
    "\n",
    "Total_sales ={}\n",
    "for key, value in City_sales.items():\n",
    "    Total_sales[key] = sum(value)\n",
    "\n",
    "sale_C = Total_sales.items()\n",
    "Sorted_sales = sorted(sale_C, key=lambda x: x[1], reverse = True)\n",
    "#There exist 531 cities taking a set of top 30 cities in sales\n",
    "top_30_cities = Sorted_sales[0:30]\n",
    "\n",
    "x = dict(top_30_cities).keys()\n",
    "x_labels = (np.arange(0,30)+1)\n",
    "y = dict(top_30_cities).values()\n",
    "\n",
    "fig, ax = plt.subplots()\n",
    "ax.bar(x,y)\n",
    "ax.set_ylabel('Total Sales')\n",
    "ax.set_xlabel('Cities')\n",
    "plt.xticks(rotation=90)\n",
    "\n",
    "ax.set_title('Total sales of each city');\n",
    "\n",
    "# The chart shows thats New York City recorded the highest sales over 250000 sales\n",
    "# Only 6 cities out of 531 made sales over 50,000 thus majority of the cities made sales below 50000\n",
    "# Newyork city has the highest total sales\n"
   ]
  },
  {
   "cell_type": "code",
   "execution_count": null,
   "id": "568fe284",
   "metadata": {},
   "outputs": [],
   "source": [
    "# getting the numerical values from our data subset\n",
    "Corr=data[['Sales','Quantity','Discount','Profit']]\n",
    "Corr"
   ]
  },
  {
   "cell_type": "code",
   "execution_count": null,
   "id": "0db7834e",
   "metadata": {},
   "outputs": [],
   "source": [
    "# get the correlation\n",
    "corr_data=Corr.corr()\n",
    "corr_data"
   ]
  },
  {
   "cell_type": "code",
   "execution_count": null,
   "id": "29250635",
   "metadata": {},
   "outputs": [],
   "source": [
    "# sns.heatmap(Corr)\n",
    "# also shows correlation\n",
    "sns.heatmap(corr_data,cmap='coolwarm',vmin=-1,vmax=1,annot=True,square=True,\n",
    "           annot_kws={'fontsize':11,'fontweight':'bold'})\n",
    "plt.show()\n",
    "# coolwarmRDBu\n",
    "# profit has the highest positive correlation sales\n",
    "# discount has the highest negative correlation sales"
   ]
  },
  {
   "cell_type": "code",
   "execution_count": null,
   "id": "964b9aa4",
   "metadata": {},
   "outputs": [],
   "source": [
    "# the scatter plot\n",
    "plt.scatter(x='Sales',y='Profit',data=data,color='purple')\n",
    "plt.xlabel('sales')\n",
    "plt.ylabel('profit')\n",
    "plt.show()"
   ]
  },
  {
   "cell_type": "markdown",
   "id": "7260917b",
   "metadata": {},
   "source": [
    "Feature engineering\n"
   ]
  },
  {
   "cell_type": "code",
   "execution_count": null,
   "id": "ca1cca02",
   "metadata": {},
   "outputs": [],
   "source": [
    "# Data clensing\n",
    "# identifying missing values\n",
    "data.isnull().sum()\n",
    "\n"
   ]
  },
  {
   "cell_type": "code",
   "execution_count": null,
   "id": "338201dd",
   "metadata": {},
   "outputs": [],
   "source": [
    "sns.heatmap(data.isnull())\n",
    "plt.show()"
   ]
  },
  {
   "cell_type": "code",
   "execution_count": null,
   "id": "c89d937e",
   "metadata": {},
   "outputs": [],
   "source": [
    "data.dtypes"
   ]
  },
  {
   "cell_type": "code",
   "execution_count": null,
   "id": "f2ff050e",
   "metadata": {},
   "outputs": [],
   "source": [
    "# any duplicated columns\n",
    "data.columns.duplicated()\n"
   ]
  },
  {
   "cell_type": "code",
   "execution_count": null,
   "id": "1374b38e",
   "metadata": {},
   "outputs": [],
   "source": [
    "# any duplicates in the rows\n",
    "data=data.duplicated().sum()"
   ]
  },
  {
   "cell_type": "code",
   "execution_count": null,
   "id": "ab1cf35a",
   "metadata": {},
   "outputs": [],
   "source": [
    "# dropping duplicates in our columns\n",
    "data=data.drop_duplicates()\n",
    "data"
   ]
  },
  {
   "cell_type": "code",
   "execution_count": null,
   "id": "ccb2b933",
   "metadata": {},
   "outputs": [],
   "source": [
    "data.duplicated().sum()"
   ]
  },
  {
   "cell_type": "code",
   "execution_count": null,
   "id": "6368d762",
   "metadata": {},
   "outputs": [],
   "source": [
    "# finding IQR\n",
    "percentile25 = data['Sales'].quantile(0.25)\n",
    "percentile75 = data['Sales'].quantile(0.75)\n",
    "\n",
    "# finding the upper and lower limits\n",
    "upper_limit = percentile75 + 1.5 * percentile75\n",
    "lower_limit = percentile25 - 1.5 * percentile25\n",
    "\n",
    "# finding outliers\n",
    "data[data['Sales'] > upper_limit]\n",
    "data[data['Sales'] < lower_limit]\n",
    "\n"
   ]
  },
  {
   "cell_type": "code",
   "execution_count": null,
   "id": "adee2dc5",
   "metadata": {},
   "outputs": [],
   "source": [
    "# trimming outliers\n",
    "new_df= data[(data['Sales'] < upper_limit)&(data['Sales']>lower_limit)]\n",
    "new_df.shape\n"
   ]
  },
  {
   "cell_type": "code",
   "execution_count": null,
   "id": "a3f00949",
   "metadata": {},
   "outputs": [],
   "source": [
    "#  Compare the plots after trimming\n",
    "plt.figure(figsize=(16,8))\n",
    "plt.subplot(2,2,1)\n",
    "sns.distplot(data['Sales'])\n",
    "plt.subplot(2,2,2)\n",
    "sns.boxplot(data['Sales'])\n",
    "plt.subplot(2,2,3)\n",
    "sns.distplot(new_df['Sales'])\n",
    "plt.subplot(2,2,4)\n",
    "sns.boxplot(new_df['Sales'])\n",
    "plt.show()"
   ]
  },
  {
   "cell_type": "code",
   "execution_count": null,
   "id": "edd232ac",
   "metadata": {},
   "outputs": [],
   "source": [
    "# finding IQR\n",
    "percentile25 = data['Profit'].quantile(0.25)\n",
    "percentile75 = data['Profit'].quantile(0.75)\n",
    "\n",
    "# finding the upper and lower limits\n",
    "upper_limit = percentile75 + 1.5 * percentile75\n",
    "lower_limit = percentile25 - 1.5 * percentile25\n",
    "\n",
    "# finding outliers\n",
    "data[data['Profit'] > upper_limit]\n",
    "data[data['Profit'] < lower_limit]\n",
    "\n",
    "# trimming outliers\n",
    "new_df= data[(data['Profit'] < upper_limit)&(data['Profit']>lower_limit)]\n",
    "new_df.shape\n",
    "\n",
    "#  Compare the plots after trimming\n",
    "plt.figure(figsize=(16,8))\n",
    "plt.subplot(2,2,1)\n",
    "sns.distplot(data['Profit'])\n",
    "plt.subplot(2,2,2)\n",
    "sns.boxplot(data['Profit'])\n",
    "plt.subplot(2,2,3)\n",
    "sns.distplot(new_df['Profit'])\n",
    "plt.subplot(2,2,4)\n",
    "sns.boxplot(new_df['Profit'])\n",
    "plt.show()"
   ]
  },
  {
   "cell_type": "code",
   "execution_count": null,
   "id": "bc1bce9f",
   "metadata": {},
   "outputs": [],
   "source": [
    "new_df['Cost']=new_df['Sales']-(new_df['Profit'])\n",
    "# new_df\n",
    "new_df\n"
   ]
  },
  {
   "cell_type": "code",
   "execution_count": null,
   "id": "b7db9399",
   "metadata": {},
   "outputs": [],
   "source": [
    "Cost_sales = sns.scatterplot(x='Cost',y='Sales',data=new_df)\n",
    "Cost_sales.set(title=\"Impact of product's Cost on Sales\");\n",
    "# cost has ahigh correlation to Sales"
   ]
  },
  {
   "cell_type": "code",
   "execution_count": null,
   "id": "650d1395",
   "metadata": {},
   "outputs": [],
   "source": [
    "a=new_df['Sales'].corr(new_df['Quantity'])\n",
    "a"
   ]
  },
  {
   "cell_type": "code",
   "execution_count": null,
   "id": "5b66f96f",
   "metadata": {},
   "outputs": [],
   "source": [
    "# summary\n",
    "# the ship mode that has been used mostly is the standard class ship mode\n",
    "# consumer ,co_operate ,home office\n",
    "# Most consumers use the standard class ship mode"
   ]
  },
  {
   "cell_type": "code",
   "execution_count": null,
   "id": "3cfa0605",
   "metadata": {},
   "outputs": [],
   "source": []
  },
  {
   "cell_type": "code",
   "execution_count": null,
   "id": "b2fe6736",
   "metadata": {},
   "outputs": [],
   "source": []
  }
 ],
 "metadata": {
  "kernelspec": {
   "display_name": "learn-env",
   "language": "python",
   "name": "learn-env"
  },
  "language_info": {
   "codemirror_mode": {
    "name": "ipython",
    "version": 3
   },
   "file_extension": ".py",
   "mimetype": "text/x-python",
   "name": "python",
   "nbconvert_exporter": "python",
   "pygments_lexer": "ipython3",
   "version": "3.11.5"
  }
 },
 "nbformat": 4,
 "nbformat_minor": 5
}
