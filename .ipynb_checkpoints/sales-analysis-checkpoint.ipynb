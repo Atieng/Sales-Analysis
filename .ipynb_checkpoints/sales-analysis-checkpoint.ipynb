{
 "cells": [
  {
   "cell_type": "code",
   "execution_count": 1,
   "id": "adffacf4",
   "metadata": {},
   "outputs": [
    {
     "data": {
      "text/html": [
       "<div>\n",
       "<style scoped>\n",
       "    .dataframe tbody tr th:only-of-type {\n",
       "        vertical-align: middle;\n",
       "    }\n",
       "\n",
       "    .dataframe tbody tr th {\n",
       "        vertical-align: top;\n",
       "    }\n",
       "\n",
       "    .dataframe thead th {\n",
       "        text-align: right;\n",
       "    }\n",
       "</style>\n",
       "<table border=\"1\" class=\"dataframe\">\n",
       "  <thead>\n",
       "    <tr style=\"text-align: right;\">\n",
       "      <th></th>\n",
       "      <th>Row ID</th>\n",
       "      <th>Order ID</th>\n",
       "      <th>Order Date</th>\n",
       "      <th>Ship Date</th>\n",
       "      <th>Ship Mode</th>\n",
       "      <th>Customer ID</th>\n",
       "      <th>Customer Name</th>\n",
       "      <th>Segment</th>\n",
       "      <th>Country</th>\n",
       "      <th>City</th>\n",
       "      <th>...</th>\n",
       "      <th>Postal Code</th>\n",
       "      <th>Region</th>\n",
       "      <th>Product ID</th>\n",
       "      <th>Category</th>\n",
       "      <th>Sub-Category</th>\n",
       "      <th>Product Name</th>\n",
       "      <th>Sales</th>\n",
       "      <th>Quantity</th>\n",
       "      <th>Discount</th>\n",
       "      <th>Profit</th>\n",
       "    </tr>\n",
       "  </thead>\n",
       "  <tbody>\n",
       "    <tr>\n",
       "      <th>0</th>\n",
       "      <td>1</td>\n",
       "      <td>CA-2016-152156</td>\n",
       "      <td>11/8/2016</td>\n",
       "      <td>11/11/2016</td>\n",
       "      <td>Second Class</td>\n",
       "      <td>CG-12520</td>\n",
       "      <td>Claire Gute</td>\n",
       "      <td>Consumer</td>\n",
       "      <td>United States</td>\n",
       "      <td>Henderson</td>\n",
       "      <td>...</td>\n",
       "      <td>42420</td>\n",
       "      <td>South</td>\n",
       "      <td>FUR-BO-10001798</td>\n",
       "      <td>Furniture</td>\n",
       "      <td>Bookcases</td>\n",
       "      <td>Bush Somerset Collection Bookcase</td>\n",
       "      <td>261.96</td>\n",
       "      <td>2</td>\n",
       "      <td>0.0</td>\n",
       "      <td>41.9136</td>\n",
       "    </tr>\n",
       "    <tr>\n",
       "      <th>1</th>\n",
       "      <td>2</td>\n",
       "      <td>CA-2016-152156</td>\n",
       "      <td>11/8/2016</td>\n",
       "      <td>11/11/2016</td>\n",
       "      <td>Second Class</td>\n",
       "      <td>CG-12520</td>\n",
       "      <td>Claire Gute</td>\n",
       "      <td>Consumer</td>\n",
       "      <td>United States</td>\n",
       "      <td>Henderson</td>\n",
       "      <td>...</td>\n",
       "      <td>42420</td>\n",
       "      <td>South</td>\n",
       "      <td>FUR-CH-10000454</td>\n",
       "      <td>Furniture</td>\n",
       "      <td>Chairs</td>\n",
       "      <td>Hon Deluxe Fabric Upholstered Stacking Chairs,...</td>\n",
       "      <td>731.94</td>\n",
       "      <td>3</td>\n",
       "      <td>0.0</td>\n",
       "      <td>219.5820</td>\n",
       "    </tr>\n",
       "  </tbody>\n",
       "</table>\n",
       "<p>2 rows × 21 columns</p>\n",
       "</div>"
      ],
      "text/plain": [
       "   Row ID        Order ID Order Date   Ship Date     Ship Mode Customer ID  \\\n",
       "0       1  CA-2016-152156  11/8/2016  11/11/2016  Second Class    CG-12520   \n",
       "1       2  CA-2016-152156  11/8/2016  11/11/2016  Second Class    CG-12520   \n",
       "\n",
       "  Customer Name   Segment        Country       City  ... Postal Code  Region  \\\n",
       "0   Claire Gute  Consumer  United States  Henderson  ...       42420   South   \n",
       "1   Claire Gute  Consumer  United States  Henderson  ...       42420   South   \n",
       "\n",
       "        Product ID   Category Sub-Category  \\\n",
       "0  FUR-BO-10001798  Furniture    Bookcases   \n",
       "1  FUR-CH-10000454  Furniture       Chairs   \n",
       "\n",
       "                                        Product Name   Sales  Quantity  \\\n",
       "0                  Bush Somerset Collection Bookcase  261.96         2   \n",
       "1  Hon Deluxe Fabric Upholstered Stacking Chairs,...  731.94         3   \n",
       "\n",
       "   Discount    Profit  \n",
       "0       0.0   41.9136  \n",
       "1       0.0  219.5820  \n",
       "\n",
       "[2 rows x 21 columns]"
      ]
     },
     "execution_count": 1,
     "metadata": {},
     "output_type": "execute_result"
    }
   ],
   "source": [
    "# importations\n",
    "import numpy as np\n",
    "import pandas as pd\n",
    "import matplotlib.pyplot as plt\n",
    "%matplotlib inline\n",
    "import seaborn as sns\n",
    "plt.style.use('fivethirtyeight')\n",
    "df=pd.read_csv('Sample - Superstore.csv')\n",
    "# encoding='utf-8'\n",
    "\n",
    "df.head(2)\n"
   ]
  },
  {
   "cell_type": "code",
   "execution_count": 3,
   "id": "191116e0",
   "metadata": {},
   "outputs": [
    {
     "data": {
      "text/html": [
       "<div>\n",
       "<style scoped>\n",
       "    .dataframe tbody tr th:only-of-type {\n",
       "        vertical-align: middle;\n",
       "    }\n",
       "\n",
       "    .dataframe tbody tr th {\n",
       "        vertical-align: top;\n",
       "    }\n",
       "\n",
       "    .dataframe thead th {\n",
       "        text-align: right;\n",
       "    }\n",
       "</style>\n",
       "<table border=\"1\" class=\"dataframe\">\n",
       "  <thead>\n",
       "    <tr style=\"text-align: right;\">\n",
       "      <th></th>\n",
       "      <th>sum</th>\n",
       "      <th>mean</th>\n",
       "      <th>min</th>\n",
       "      <th>max</th>\n",
       "      <th>count</th>\n",
       "      <th>median</th>\n",
       "      <th>std</th>\n",
       "      <th>var</th>\n",
       "    </tr>\n",
       "    <tr>\n",
       "      <th>State</th>\n",
       "      <th></th>\n",
       "      <th></th>\n",
       "      <th></th>\n",
       "      <th></th>\n",
       "      <th></th>\n",
       "      <th></th>\n",
       "      <th></th>\n",
       "      <th></th>\n",
       "    </tr>\n",
       "  </thead>\n",
       "  <tbody>\n",
       "    <tr>\n",
       "      <th>Alabama</th>\n",
       "      <td>19510.6400</td>\n",
       "      <td>319.846557</td>\n",
       "      <td>3.620</td>\n",
       "      <td>3040.000</td>\n",
       "      <td>61</td>\n",
       "      <td>70.980</td>\n",
       "      <td>545.761807</td>\n",
       "      <td>297855.950380</td>\n",
       "    </tr>\n",
       "    <tr>\n",
       "      <th>Arizona</th>\n",
       "      <td>35282.0010</td>\n",
       "      <td>157.508933</td>\n",
       "      <td>1.408</td>\n",
       "      <td>1879.960</td>\n",
       "      <td>224</td>\n",
       "      <td>61.512</td>\n",
       "      <td>249.710692</td>\n",
       "      <td>62355.429472</td>\n",
       "    </tr>\n",
       "    <tr>\n",
       "      <th>Arkansas</th>\n",
       "      <td>11678.1300</td>\n",
       "      <td>194.635500</td>\n",
       "      <td>4.300</td>\n",
       "      <td>1793.980</td>\n",
       "      <td>60</td>\n",
       "      <td>54.420</td>\n",
       "      <td>316.405669</td>\n",
       "      <td>100112.547642</td>\n",
       "    </tr>\n",
       "    <tr>\n",
       "      <th>California</th>\n",
       "      <td>457687.6315</td>\n",
       "      <td>228.729451</td>\n",
       "      <td>0.990</td>\n",
       "      <td>8187.650</td>\n",
       "      <td>2001</td>\n",
       "      <td>61.020</td>\n",
       "      <td>491.005264</td>\n",
       "      <td>241086.168821</td>\n",
       "    </tr>\n",
       "    <tr>\n",
       "      <th>Colorado</th>\n",
       "      <td>32108.1180</td>\n",
       "      <td>176.418231</td>\n",
       "      <td>1.080</td>\n",
       "      <td>2549.985</td>\n",
       "      <td>182</td>\n",
       "      <td>51.016</td>\n",
       "      <td>324.415072</td>\n",
       "      <td>105245.139165</td>\n",
       "    </tr>\n",
       "  </tbody>\n",
       "</table>\n",
       "</div>"
      ],
      "text/plain": [
       "                    sum        mean    min       max  count  median  \\\n",
       "State                                                                 \n",
       "Alabama      19510.6400  319.846557  3.620  3040.000     61  70.980   \n",
       "Arizona      35282.0010  157.508933  1.408  1879.960    224  61.512   \n",
       "Arkansas     11678.1300  194.635500  4.300  1793.980     60  54.420   \n",
       "California  457687.6315  228.729451  0.990  8187.650   2001  61.020   \n",
       "Colorado     32108.1180  176.418231  1.080  2549.985    182  51.016   \n",
       "\n",
       "                   std            var  \n",
       "State                                  \n",
       "Alabama     545.761807  297855.950380  \n",
       "Arizona     249.710692   62355.429472  \n",
       "Arkansas    316.405669  100112.547642  \n",
       "California  491.005264  241086.168821  \n",
       "Colorado    324.415072  105245.139165  "
      ]
     },
     "execution_count": 3,
     "metadata": {},
     "output_type": "execute_result"
    }
   ],
   "source": [
    "# produce summary statistics\n",
    "# df.info()\n",
    "# df.describe()\n",
    "df.groupby('State').Sales.agg(['sum','mean','min','max','count','median','std','var']).head()\n",
    "# df.groupby('City').Profit.agg(['sum','mean','min','max','count','median','std','var'])\n",
    "# df.isnull().sum()"
   ]
  },
  {
   "cell_type": "code",
   "execution_count": 4,
   "id": "16bfea43",
   "metadata": {},
   "outputs": [],
   "source": [
    "# visualizations\n",
    "#Boxplot \n",
    "# fig, axs = plt.subplots(4,1) \n",
    "# fig.set_size_inches(9,15) \n",
    "# sns.boxplot(data= df['Sales'],ax=axs[0]) \n",
    "# axs[0].set_title('Sales')                         \n",
    "# sns.boxplot(data=df['Quantity'],ax=axs[1])\n",
    "# axs[1].set_title('Quantity')\n",
    "# sns.boxplot(data=df['Profit'],ax=axs[2])\n",
    "# axs[2].set_title('Profit')\n",
    "# sns.boxplot(data=df['Discount'],ax=axs[3])\n",
    "# axs[3].set_title('Discount')\n",
    "# plt.show()\n",
    "\n",
    "# frequency table\n",
    "\n"
   ]
  },
  {
   "cell_type": "code",
   "execution_count": 5,
   "id": "e7539656",
   "metadata": {},
   "outputs": [],
   "source": [
    "# histogram to show distribution of Shipmode\n",
    "# frequency of an occurence\n",
    "\n",
    "# sns.set_style('whitegrid')\n",
    "# sns.histplot(x=df['Ship Mode'],bins=10,data=df,binwidth=3,shrink=0.6,hue='Segment')\n",
    "# plt.show()"
   ]
  },
  {
   "cell_type": "code",
   "execution_count": 6,
   "id": "64a18276",
   "metadata": {},
   "outputs": [],
   "source": [
    "# sns.histplot(x=df['Quantity'],data=df,kde=True,hue='Ship Mode',stat='density')\n",
    "# plt.show()"
   ]
  },
  {
   "cell_type": "code",
   "execution_count": 7,
   "id": "f66090ff",
   "metadata": {},
   "outputs": [],
   "source": [
    "# sns.histplot(x=df['Ship Mode'],bins=10,data=df,shrink=0.6,hue='Segment',palette=['Black','Blue','orange'])\n",
    "# plt.show()\n",
    "\n",
    "# sns.displot(x=df['Quantity'],data=df,col='Ship Mode',kde=True,lw=0.8,common_norm=False)\n",
    "# plt.show()"
   ]
  },
  {
   "cell_type": "code",
   "execution_count": 8,
   "id": "9f32fa08",
   "metadata": {},
   "outputs": [
    {
     "ename": "NameError",
     "evalue": "name 'sns' is not defined",
     "output_type": "error",
     "traceback": [
      "\u001b[1;31m---------------------------------------------------------------------------\u001b[0m",
      "\u001b[1;31mNameError\u001b[0m                                 Traceback (most recent call last)",
      "Cell \u001b[1;32mIn[8], line 1\u001b[0m\n\u001b[1;32m----> 1\u001b[0m sns\u001b[38;5;241m.\u001b[39mhistplot(x\u001b[38;5;241m=\u001b[39mdf[\u001b[38;5;124m'\u001b[39m\u001b[38;5;124mSegment\u001b[39m\u001b[38;5;124m'\u001b[39m],bins\u001b[38;5;241m=\u001b[39m\u001b[38;5;241m10\u001b[39m,data\u001b[38;5;241m=\u001b[39mdf,shrink\u001b[38;5;241m=\u001b[39m\u001b[38;5;241m0.8\u001b[39m,color\u001b[38;5;241m=\u001b[39m\u001b[38;5;124m'\u001b[39m\u001b[38;5;124mblue\u001b[39m\u001b[38;5;124m'\u001b[39m)\n\u001b[0;32m      2\u001b[0m plt\u001b[38;5;241m.\u001b[39mtitle(\u001b[38;5;124m'\u001b[39m\u001b[38;5;124mSegment\u001b[39m\u001b[38;5;124m'\u001b[39m)\n\u001b[0;32m      3\u001b[0m plt\u001b[38;5;241m.\u001b[39mxlabel(\u001b[38;5;124m'\u001b[39m\u001b[38;5;124mSegment\u001b[39m\u001b[38;5;124m'\u001b[39m)\n",
      "\u001b[1;31mNameError\u001b[0m: name 'sns' is not defined"
     ]
    }
   ],
   "source": [
    "sns.histplot(x=df['Segment'],bins=10,data=df,shrink=0.8,color='blue')\n",
    "plt.title('Segment')\n",
    "plt.xlabel('Segment')\n",
    "plt.ylabel('count')\n",
    "plt.show()"
   ]
  },
  {
   "cell_type": "code",
   "execution_count": null,
   "id": "503bf421",
   "metadata": {},
   "outputs": [],
   "source": [
    "sns.countplot(x=df['City'],data=df['City'].head(20))\n",
    "plt.title('Cities')\n"
   ]
  },
  {
   "cell_type": "code",
   "execution_count": null,
   "id": "960056aa",
   "metadata": {},
   "outputs": [],
   "source": [
    "# plt.show()\n",
    "# sns.histplot(x=df['Sales'],bins=10,shrink=0.8)\n",
    "# plt.title('Sales')\n",
    "# plt.show()"
   ]
  },
  {
   "cell_type": "code",
   "execution_count": null,
   "id": "9c59b06e",
   "metadata": {},
   "outputs": [],
   "source": [
    "# the distribution is non normal\n",
    "# sns.histplot(x=df['Quantity'],bins=10,kde=True,stat='density')\n",
    "# plt.title('Quantity')\n",
    "# plt.show()"
   ]
  },
  {
   "cell_type": "code",
   "execution_count": null,
   "id": "e6c153ce",
   "metadata": {},
   "outputs": [],
   "source": [
    "\n",
    "# sns.displot(x=df['Quantity'],kind='kde',lw=0.8)\n",
    "# plt.title('Quantity')\n",
    "# plt.show()"
   ]
  },
  {
   "cell_type": "code",
   "execution_count": null,
   "id": "42cc05f1",
   "metadata": {},
   "outputs": [],
   "source": [
    "# sns.histplot(x=df['Discount'],bins=10)\n",
    "# plt.title('Discount')\n",
    "# plt.show()"
   ]
  },
  {
   "cell_type": "code",
   "execution_count": null,
   "id": "6c1c26ec",
   "metadata": {},
   "outputs": [],
   "source": [
    "# sns.histplot(df['Profit'],bins=10)\n",
    "# plt.title('Profit')\n",
    "# plt.show()"
   ]
  },
  {
   "cell_type": "code",
   "execution_count": null,
   "id": "b1b4d16c",
   "metadata": {},
   "outputs": [],
   "source": [
    "# Boxplots\n",
    "# df.plot(kind='box',subplots=True,layout=(4,3),sharex=False,sharey=False)\n",
    "# plt.rcParams['figure.figsize']=[18,16]\n",
    "# plt.show()\n"
   ]
  },
  {
   "cell_type": "code",
   "execution_count": null,
   "id": "44ed63fa",
   "metadata": {},
   "outputs": [],
   "source": [
    "df.hist(bins=30,figsize=(18,16),alpha=0.8)\n",
    "plt.show()"
   ]
  },
  {
   "cell_type": "code",
   "execution_count": null,
   "id": "7cc6112f",
   "metadata": {},
   "outputs": [],
   "source": [
    "# sns.pairplot(df,hue='Ship Mode')\n",
    "# plt.show()\n",
    "\n",
    "sns.pairplot(df,hue='Category')\n",
    "plt.show()\n",
    "\n",
    "# used to understand the best set of features to explain a relationship btw two variables or to form the most separated clusters\n",
    "# enhance understanding with a single plot"
   ]
  },
  {
   "cell_type": "code",
   "execution_count": null,
   "id": "ca0d439f",
   "metadata": {},
   "outputs": [],
   "source": [
    "df['Ship Mode'].unique()\n",
    "# distributions of the ship mode\n",
    "df['Ship Mode'].value_counts()"
   ]
  },
  {
   "cell_type": "code",
   "execution_count": null,
   "id": "7008a36f",
   "metadata": {},
   "outputs": [],
   "source": [
    "# subsed based on quantity and city\n",
    "a=df[['Quantity','City']]\n",
    "a\n",
    "# Distribution of quantity across the cities\n",
    "# df[['Quantity','City']].value_counts()"
   ]
  },
  {
   "cell_type": "code",
   "execution_count": null,
   "id": "5e5cbe7b",
   "metadata": {},
   "outputs": [],
   "source": [
    "# Distribution of sales\n",
    "df.groupby(['City','Quantity'],as_index=False)['Sales'].sum()\n"
   ]
  },
  {
   "cell_type": "code",
   "execution_count": null,
   "id": "40f4710f",
   "metadata": {},
   "outputs": [],
   "source": [
    "# unique ststes\n",
    "df['City'].unique()\n",
    "len(df['City'].unique())"
   ]
  },
  {
   "cell_type": "code",
   "execution_count": null,
   "id": "e111bd6a",
   "metadata": {},
   "outputs": [],
   "source": [
    "sales_cities=df.groupby(['City'])['Sales',].agg(['sum']).head(20)\n",
    "sales_cities.plot.bar(title='Distribution of sales per city',figsize=(15,12))\n",
    "plt.xticks(rotation=45,ha='right')\n",
    "plt.rcParams['figure.figsize']=[15,12]\n",
    "plt.show(block=True)"
   ]
  },
  {
   "cell_type": "code",
   "execution_count": null,
   "id": "2e878de5",
   "metadata": {},
   "outputs": [],
   "source": [
    "sales_cities=df.groupby(['Quantity'])['Sales',].agg(['sum'])\n",
    "set(sales_cities)\n",
    "\n",
    "# sales_cities.plot(kind='bar',title='Distribution of sales per city',figsize=(30,28))\n",
    "\n",
    "sales_cities.plot.bar(title='Distribution of sales per city',figsize=(15,12))\n",
    "plt.xticks(rotation=45,ha='right')\n",
    "plt.rcParams['figure.figsize']=[15,12]\n",
    "plt.show(block=True)"
   ]
  },
  {
   "cell_type": "code",
   "execution_count": null,
   "id": "fb8c64a2",
   "metadata": {},
   "outputs": [],
   "source": [
    "City_sales = {}\n",
    "city_sales =df[['City','Sales']]\n",
    "for i in city_sales.City.unique():\n",
    "    City_sales[i] = [df['Sales'][v] for v in df[df[\"City\"] == i].index]\n",
    "Total_sales ={}\n",
    "for key, value in City_sales.items():\n",
    "    Total_sales[key] = sum(value)\n",
    "sale_T = Total_sales.items()\n",
    "Sorted_sales = sorted(sale_T, key=lambda x: x[1], reverse = True)\n",
    "#There exist 531 cities taking a set of top 30 cities\n",
    "top_30_cities = Sorted_sales[0:30]\n",
    "\n",
    "x = dict(top_30_cities).keys()\n",
    "x_labels = np.arange(0,30)\n",
    "y = dict(top_30_cities).values()\n",
    "\n",
    "sns.barplot(x=x_labels,y=y,data=df)\n",
    "# sns.set_style('darkgrid')\n",
    "plt.legend(ncol=3)\n",
    "plt.show()\n",
    "# sale_T = Total_sales.items()\n",
    "# Sorted_sales = sorted(sale_T, key=lambda x: x[0])   \n",
    "    "
   ]
  },
  {
   "cell_type": "code",
   "execution_count": null,
   "id": "e9d94626",
   "metadata": {},
   "outputs": [],
   "source": [
    "# plt.figure(figsize=(15,12))\n",
    "# sns.countplot(x=df['State'])\n",
    "# plt.xticks(rotation=90)\n",
    "# plt.show()\n",
    "sales_cities=df.groupby(['City','Quantity'])['Sales',].agg(['sum']).head(20)\n",
    "\n",
    "\n",
    "# sales_cities.plot(kind='bar',title='Distribution of sales per city',figsize=(30,28))\n",
    "\n",
    "sales_cities.plot.bar(title='Distribution of sales per city',figsize=(15,12))\n",
    "plt.xticks(rotation=45,ha='right')\n",
    "plt.rcParams['figure.figsize']=[15,12]\n",
    "plt.show(block=True)"
   ]
  },
  {
   "cell_type": "code",
   "execution_count": null,
   "id": "b182e82a",
   "metadata": {},
   "outputs": [],
   "source": [
    "sales_cities=df.groupby(['City','Quantity']),['Sales'].agg(['sum']).head(50)\n",
    "# sales_cities.unique()\n",
    "# sales_cities.plot(kind='bar',title='Distribution of sales per city',figsize=(30,28))\n",
    "# plt.show() "
   ]
  },
  {
   "cell_type": "code",
   "execution_count": null,
   "id": "f0d8e965",
   "metadata": {},
   "outputs": [],
   "source": [
    "plt.figure(figsize=(20,8))\n",
    "sns.countplot(x=df['City'],order=(df['City'].value_counts().head(15)).index,palette='Dark2')\n",
    "plt.xticks(rotation=45)\n"
   ]
  },
  {
   "cell_type": "code",
   "execution_count": 2,
   "id": "568fe284",
   "metadata": {},
   "outputs": [
    {
     "data": {
      "text/html": [
       "<div>\n",
       "<style scoped>\n",
       "    .dataframe tbody tr th:only-of-type {\n",
       "        vertical-align: middle;\n",
       "    }\n",
       "\n",
       "    .dataframe tbody tr th {\n",
       "        vertical-align: top;\n",
       "    }\n",
       "\n",
       "    .dataframe thead th {\n",
       "        text-align: right;\n",
       "    }\n",
       "</style>\n",
       "<table border=\"1\" class=\"dataframe\">\n",
       "  <thead>\n",
       "    <tr style=\"text-align: right;\">\n",
       "      <th></th>\n",
       "      <th>Sales</th>\n",
       "      <th>Quantity</th>\n",
       "      <th>Discount</th>\n",
       "      <th>Profit</th>\n",
       "    </tr>\n",
       "  </thead>\n",
       "  <tbody>\n",
       "    <tr>\n",
       "      <th>0</th>\n",
       "      <td>261.9600</td>\n",
       "      <td>2</td>\n",
       "      <td>0.00</td>\n",
       "      <td>41.9136</td>\n",
       "    </tr>\n",
       "    <tr>\n",
       "      <th>1</th>\n",
       "      <td>731.9400</td>\n",
       "      <td>3</td>\n",
       "      <td>0.00</td>\n",
       "      <td>219.5820</td>\n",
       "    </tr>\n",
       "    <tr>\n",
       "      <th>2</th>\n",
       "      <td>14.6200</td>\n",
       "      <td>2</td>\n",
       "      <td>0.00</td>\n",
       "      <td>6.8714</td>\n",
       "    </tr>\n",
       "    <tr>\n",
       "      <th>3</th>\n",
       "      <td>957.5775</td>\n",
       "      <td>5</td>\n",
       "      <td>0.45</td>\n",
       "      <td>-383.0310</td>\n",
       "    </tr>\n",
       "    <tr>\n",
       "      <th>4</th>\n",
       "      <td>22.3680</td>\n",
       "      <td>2</td>\n",
       "      <td>0.20</td>\n",
       "      <td>2.5164</td>\n",
       "    </tr>\n",
       "    <tr>\n",
       "      <th>...</th>\n",
       "      <td>...</td>\n",
       "      <td>...</td>\n",
       "      <td>...</td>\n",
       "      <td>...</td>\n",
       "    </tr>\n",
       "    <tr>\n",
       "      <th>9989</th>\n",
       "      <td>25.2480</td>\n",
       "      <td>3</td>\n",
       "      <td>0.20</td>\n",
       "      <td>4.1028</td>\n",
       "    </tr>\n",
       "    <tr>\n",
       "      <th>9990</th>\n",
       "      <td>91.9600</td>\n",
       "      <td>2</td>\n",
       "      <td>0.00</td>\n",
       "      <td>15.6332</td>\n",
       "    </tr>\n",
       "    <tr>\n",
       "      <th>9991</th>\n",
       "      <td>258.5760</td>\n",
       "      <td>2</td>\n",
       "      <td>0.20</td>\n",
       "      <td>19.3932</td>\n",
       "    </tr>\n",
       "    <tr>\n",
       "      <th>9992</th>\n",
       "      <td>29.6000</td>\n",
       "      <td>4</td>\n",
       "      <td>0.00</td>\n",
       "      <td>13.3200</td>\n",
       "    </tr>\n",
       "    <tr>\n",
       "      <th>9993</th>\n",
       "      <td>243.1600</td>\n",
       "      <td>2</td>\n",
       "      <td>0.00</td>\n",
       "      <td>72.9480</td>\n",
       "    </tr>\n",
       "  </tbody>\n",
       "</table>\n",
       "<p>9994 rows × 4 columns</p>\n",
       "</div>"
      ],
      "text/plain": [
       "         Sales  Quantity  Discount    Profit\n",
       "0     261.9600         2      0.00   41.9136\n",
       "1     731.9400         3      0.00  219.5820\n",
       "2      14.6200         2      0.00    6.8714\n",
       "3     957.5775         5      0.45 -383.0310\n",
       "4      22.3680         2      0.20    2.5164\n",
       "...        ...       ...       ...       ...\n",
       "9989   25.2480         3      0.20    4.1028\n",
       "9990   91.9600         2      0.00   15.6332\n",
       "9991  258.5760         2      0.20   19.3932\n",
       "9992   29.6000         4      0.00   13.3200\n",
       "9993  243.1600         2      0.00   72.9480\n",
       "\n",
       "[9994 rows x 4 columns]"
      ]
     },
     "execution_count": 2,
     "metadata": {},
     "output_type": "execute_result"
    }
   ],
   "source": [
    "Corr=df[['Sales','Quantity','Discount','Profit']]\n",
    "Corr"
   ]
  },
  {
   "cell_type": "code",
   "execution_count": 3,
   "id": "1c4fee69",
   "metadata": {},
   "outputs": [
    {
     "data": {
      "text/html": [
       "<div>\n",
       "<style scoped>\n",
       "    .dataframe tbody tr th:only-of-type {\n",
       "        vertical-align: middle;\n",
       "    }\n",
       "\n",
       "    .dataframe tbody tr th {\n",
       "        vertical-align: top;\n",
       "    }\n",
       "\n",
       "    .dataframe thead th {\n",
       "        text-align: right;\n",
       "    }\n",
       "</style>\n",
       "<table border=\"1\" class=\"dataframe\">\n",
       "  <thead>\n",
       "    <tr style=\"text-align: right;\">\n",
       "      <th></th>\n",
       "      <th>Sales</th>\n",
       "      <th>Quantity</th>\n",
       "      <th>Discount</th>\n",
       "      <th>Profit</th>\n",
       "    </tr>\n",
       "  </thead>\n",
       "  <tbody>\n",
       "    <tr>\n",
       "      <th>Sales</th>\n",
       "      <td>1.000000</td>\n",
       "      <td>0.200795</td>\n",
       "      <td>-0.028190</td>\n",
       "      <td>0.479064</td>\n",
       "    </tr>\n",
       "    <tr>\n",
       "      <th>Quantity</th>\n",
       "      <td>0.200795</td>\n",
       "      <td>1.000000</td>\n",
       "      <td>0.008623</td>\n",
       "      <td>0.066253</td>\n",
       "    </tr>\n",
       "    <tr>\n",
       "      <th>Discount</th>\n",
       "      <td>-0.028190</td>\n",
       "      <td>0.008623</td>\n",
       "      <td>1.000000</td>\n",
       "      <td>-0.219487</td>\n",
       "    </tr>\n",
       "    <tr>\n",
       "      <th>Profit</th>\n",
       "      <td>0.479064</td>\n",
       "      <td>0.066253</td>\n",
       "      <td>-0.219487</td>\n",
       "      <td>1.000000</td>\n",
       "    </tr>\n",
       "  </tbody>\n",
       "</table>\n",
       "</div>"
      ],
      "text/plain": [
       "             Sales  Quantity  Discount    Profit\n",
       "Sales     1.000000  0.200795 -0.028190  0.479064\n",
       "Quantity  0.200795  1.000000  0.008623  0.066253\n",
       "Discount -0.028190  0.008623  1.000000 -0.219487\n",
       "Profit    0.479064  0.066253 -0.219487  1.000000"
      ]
     },
     "execution_count": 3,
     "metadata": {},
     "output_type": "execute_result"
    }
   ],
   "source": [
    "Corr.corr()"
   ]
  },
  {
   "cell_type": "code",
   "execution_count": 4,
   "id": "5338b5ce",
   "metadata": {},
   "outputs": [
    {
     "data": {
      "text/html": [
       "<div>\n",
       "<style scoped>\n",
       "    .dataframe tbody tr th:only-of-type {\n",
       "        vertical-align: middle;\n",
       "    }\n",
       "\n",
       "    .dataframe tbody tr th {\n",
       "        vertical-align: top;\n",
       "    }\n",
       "\n",
       "    .dataframe thead th {\n",
       "        text-align: right;\n",
       "    }\n",
       "</style>\n",
       "<table border=\"1\" class=\"dataframe\">\n",
       "  <thead>\n",
       "    <tr style=\"text-align: right;\">\n",
       "      <th></th>\n",
       "      <th>Sales</th>\n",
       "      <th>Quantity</th>\n",
       "      <th>Discount</th>\n",
       "      <th>Profit</th>\n",
       "    </tr>\n",
       "  </thead>\n",
       "  <tbody>\n",
       "    <tr>\n",
       "      <th>Sales</th>\n",
       "      <td>1.000000</td>\n",
       "      <td>0.200795</td>\n",
       "      <td>-0.028190</td>\n",
       "      <td>0.479064</td>\n",
       "    </tr>\n",
       "    <tr>\n",
       "      <th>Quantity</th>\n",
       "      <td>0.200795</td>\n",
       "      <td>1.000000</td>\n",
       "      <td>0.008623</td>\n",
       "      <td>0.066253</td>\n",
       "    </tr>\n",
       "    <tr>\n",
       "      <th>Discount</th>\n",
       "      <td>-0.028190</td>\n",
       "      <td>0.008623</td>\n",
       "      <td>1.000000</td>\n",
       "      <td>-0.219487</td>\n",
       "    </tr>\n",
       "    <tr>\n",
       "      <th>Profit</th>\n",
       "      <td>0.479064</td>\n",
       "      <td>0.066253</td>\n",
       "      <td>-0.219487</td>\n",
       "      <td>1.000000</td>\n",
       "    </tr>\n",
       "  </tbody>\n",
       "</table>\n",
       "</div>"
      ],
      "text/plain": [
       "             Sales  Quantity  Discount    Profit\n",
       "Sales     1.000000  0.200795 -0.028190  0.479064\n",
       "Quantity  0.200795  1.000000  0.008623  0.066253\n",
       "Discount -0.028190  0.008623  1.000000 -0.219487\n",
       "Profit    0.479064  0.066253 -0.219487  1.000000"
      ]
     },
     "execution_count": 4,
     "metadata": {},
     "output_type": "execute_result"
    }
   ],
   "source": [
    "# Explore correlations\n",
    "# a=df['Sales'].corr(df['Quantity'])\n",
    "\n",
    "df[['Sales','Quantity','Discount','Profit']].corr()\n",
    "\n",
    "# profit-moderate negative correlation\n",
    "# discount-negligible correlation/no corrrelation\n",
    "# quantity no correlation"
   ]
  },
  {
   "cell_type": "code",
   "execution_count": null,
   "id": "29250635",
   "metadata": {},
   "outputs": [],
   "source": [
    "sns.heatmap(Corr,cmap='coolwarm',vmin=-1,vmax=1,annot=True,square=True,\n",
    "           annot_kws={'fontsize':11,'fontweight':'bold'})\n",
    "# coolwarmRDBu\n",
    "plt.show()"
   ]
  },
  {
   "cell_type": "code",
   "execution_count": null,
   "id": "54aae1b9",
   "metadata": {},
   "outputs": [],
   "source": [
    "a=df['Sales'].corr(df['Quantity'])\n",
    "a\n",
    "plt.scatter(x='Sales',y='Quantity',data=df)\n",
    "plt.title('Quantity vs. Sales')\n",
    "plt.xlabel('Sales')\n",
    "plt.ylabel('Quantity')\n",
    "plt.show()\n"
   ]
  },
  {
   "cell_type": "code",
   "execution_count": null,
   "id": "4d3ee090",
   "metadata": {},
   "outputs": [],
   "source": [
    "plt.scatter(x='Sales',y='Discount',data=df)\n",
    "plt.title('Discount vs. Sales')\n",
    "plt.xlabel('Sales')\n",
    "plt.ylabel('Discount')\n",
    "plt.show()"
   ]
  },
  {
   "cell_type": "code",
   "execution_count": null,
   "id": "088de4ae",
   "metadata": {},
   "outputs": [],
   "source": [
    "plt.scatter(x='Sales',y='Profit',data=df,color='purple')\n",
    "plt.title('Profit vs. Sales')\n",
    "plt.xlabel('Sales')\n",
    "plt.ylabel('Profit')\n",
    "plt.show()"
   ]
  },
  {
   "cell_type": "code",
   "execution_count": null,
   "id": "88f28bdd",
   "metadata": {},
   "outputs": [],
   "source": [
    "# sns.scatterplot(df)\n",
    "# plt.show()\n"
   ]
  },
  {
   "cell_type": "markdown",
   "id": "7260917b",
   "metadata": {},
   "source": [
    "Feature engineering\n"
   ]
  },
  {
   "cell_type": "code",
   "execution_count": null,
   "id": "ca1cca02",
   "metadata": {},
   "outputs": [],
   "source": [
    "# Data clensing\n",
    "# identifying missing values\n",
    "df.isnull().sum()\n",
    "\n"
   ]
  },
  {
   "cell_type": "code",
   "execution_count": null,
   "id": "338201dd",
   "metadata": {},
   "outputs": [],
   "source": [
    "sns.heatmap(df.isnull())\n",
    "plt.show()"
   ]
  },
  {
   "cell_type": "code",
   "execution_count": null,
   "id": "5a744554",
   "metadata": {},
   "outputs": [],
   "source": [
    "df.dropna(inplace=True)"
   ]
  },
  {
   "cell_type": "code",
   "execution_count": null,
   "id": "9d125aab",
   "metadata": {},
   "outputs": [],
   "source": [
    "# features have correct datatypes\n",
    "df.dtypes\n",
    "df['Order Date']=pd.to_datetime(df['Order Date'])"
   ]
  },
  {
   "cell_type": "code",
   "execution_count": null,
   "id": "c0e613b6",
   "metadata": {},
   "outputs": [],
   "source": [
    "df['Ship Date']=pd.to_datetime(df['Ship Date'])"
   ]
  },
  {
   "cell_type": "code",
   "execution_count": null,
   "id": "92bcb9af",
   "metadata": {},
   "outputs": [],
   "source": [
    "df"
   ]
  },
  {
   "cell_type": "code",
   "execution_count": null,
   "id": "c89d937e",
   "metadata": {},
   "outputs": [],
   "source": [
    "df.dtypes"
   ]
  },
  {
   "cell_type": "code",
   "execution_count": null,
   "id": "f2ff050e",
   "metadata": {},
   "outputs": [],
   "source": [
    "# any duplicated columns\n",
    "df.columns.duplicated()\n"
   ]
  },
  {
   "cell_type": "code",
   "execution_count": null,
   "id": "1374b38e",
   "metadata": {},
   "outputs": [],
   "source": [
    "# any duplicates in the rows\n",
    "df.duplicated().sum()"
   ]
  },
  {
   "cell_type": "code",
   "execution_count": null,
   "id": "ab1cf35a",
   "metadata": {},
   "outputs": [],
   "source": [
    "# dropping duplicates in our columns\n",
    "df.drop_duplicates()"
   ]
  },
  {
   "cell_type": "code",
   "execution_count": null,
   "id": "ccb2b933",
   "metadata": {},
   "outputs": [],
   "source": []
  },
  {
   "cell_type": "code",
   "execution_count": null,
   "id": "6368d762",
   "metadata": {},
   "outputs": [],
   "source": []
  },
  {
   "cell_type": "code",
   "execution_count": null,
   "id": "bad04a33",
   "metadata": {
    "scrolled": false
   },
   "outputs": [],
   "source": [
    "df"
   ]
  },
  {
   "cell_type": "code",
   "execution_count": null,
   "id": "d514136f",
   "metadata": {},
   "outputs": [],
   "source": [
    "\n",
    "\n",
    "#Extreacting the columns 'Ship Mode', 'Segment','City','Sales','Quantity','Discount' and 'Profit' from the main file\n",
    "dataSubset = df[['Ship Mode', 'Segment','City','Sales','Quantity','Discount', 'Profit']]\n",
    "# the first 15 records from the datasubset\n",
    "dataSubset.head(10)\n",
    "\n",
    "# dataSubset.describe()\n",
    "\n",
    "# Quantity_sales subset\n",
    "Quant_sales = {}\n",
    "Quantity_sales =dataSubset[['Quantity','Sales']]\n",
    "for i in Quantity_sales.Quantity.unique():\n",
    "    Quant_sales[i] = [dataSubset['Sales'][v] for v in dataSubset[dataSubset[\"Quantity\"] == i].index]\n",
    "\n",
    "# Total_sales ={}\n",
    "# for key, value in Quant_sales.items():\n",
    "#     Total_sales[key] = sum(value)\n",
    "\n",
    "# sale_T = Total_sales.items()\n",
    "# Sorted_sales = sorted(sale_T, key=lambda x: x[0])\n",
    "# x = dict(Sorted_sales).keys()\n",
    "# y = dict(Sorted_sales).values()\n",
    "# x1=np.arange(0,15,1)+1\n",
    "\n",
    "# fig, ax = plt.subplots()\n",
    "# ax.bar(x,y)\n",
    "# ax.set_ylabel('Total sales')\n",
    "# ax.set_xlabel('Quantity levels')\n",
    "# # ax.set_xticklabels(np.arange(0,15,1)+1)\n",
    "# ax.set_title('Sales distribution per quantity');\n",
    "\n",
    "# City_sales = {}\n",
    "# city_sales =dataSubset[['City','Sales']]\n",
    "# for i in city_sales.City.unique():\n",
    "#     City_sales[i] = [dataSubset['Sales'][v] for v in dataSubset[dataSubset[\"City\"] == i].index]\n",
    "\n",
    "# Total_sales ={}\n",
    "# for key, value in City_sales.items():\n",
    "#     Total_sales[key] = sum(value)\n",
    "\n",
    "# sale_T = Total_sales.items()\n",
    "# Sorted_sales = sorted(sale_T, key=lambda x: x[1], reverse = True)\n",
    "# #There exist 531 cities taking a set of top 30 cities\n",
    "# top_30_cities = Sorted_sales[0:30]\n",
    "\n",
    "# x = dict(top_30_cities).keys()\n",
    "# x_labels = np.arange(0,30)\n",
    "# y = dict(top_30_cities).values()\n",
    "\n",
    "# SaleCity = sns.barplot(x=x_labels,y=y, hue = x)\n",
    "# sns.set_style('darkgrid')\n",
    "# plt.legend(ncol=3);\n",
    "\n"
   ]
  },
  {
   "cell_type": "code",
   "execution_count": null,
   "id": "0fbf8c89",
   "metadata": {},
   "outputs": [],
   "source": [
    "# Quantity_sales subset\n",
    "Quant_sales = {}\n",
    "Quantity_sales =dataSubset[['Quantity','Sales']]\n",
    "for i in Quantity_sales.Quantity.unique():\n",
    "    Quant_sales[i] = [dataSubset['Sales'][v] for v in dataSubset[dataSubset[\"Quantity\"] == i].index]\n",
    "\n",
    "Total_sales ={}\n",
    "for key, value in Quant_sales.items():\n",
    "    Total_sales[key] = sum(value)\n",
    "\n",
    "sale_T = Total_sales.items()\n",
    "Sorted_sales = sorted(sale_T, key=lambda x: x[0])\n",
    "x = dict(Sorted_sales).keys()\n",
    "y = dict(Sorted_sales).values()\n",
    "\n",
    "\n",
    "fig, ax = plt.subplots()\n",
    "ax.bar(x,y)\n",
    "ax.set_ylabel('Total sales')\n",
    "ax.set_xlabel('Quantity levels')\n",
    "# ax.set_xticklabels(np.arange(0,15,1)+1)\n",
    "ax.set_title('Sales distribution per quantity');"
   ]
  },
  {
   "cell_type": "code",
   "execution_count": null,
   "id": "dc0bb13e",
   "metadata": {},
   "outputs": [],
   "source": [
    "# City_sales distribution\n",
    "City_sales = {}\n",
    "city_sales =dataSubset[['City','Sales']]\n",
    "for i in city_sales.City.unique():\n",
    "    City_sales[i] = [dataSubset['Sales'][v] for v in dataSubset[dataSubset[\"City\"] == i].index]\n",
    "\n",
    "Total_sales ={}\n",
    "for key, value in City_sales.items():\n",
    "    Total_sales[key] = sum(value)\n",
    "\n",
    "sale_C = Total_sales.items()\n",
    "Sorted_sales = sorted(sale_C, key=lambda x: x[1], reverse = True)\n",
    "#There exist 531 cities taking a set of top 30 cities\n",
    "top_30_cities = Sorted_sales[0:30]\n",
    "\n",
    "\n",
    "x = dict(top_30_cities).keys()\n",
    "x_labels = np.arange(0,30)\n",
    "y = dict(top_30_cities).values()\n",
    "\n",
    "SaleCity = sns.barplot(x=x_labels,y=y, hue = x)\n",
    "plt.legend(ncol=3);"
   ]
  }
 ],
 "metadata": {
  "kernelspec": {
   "display_name": "learn-env",
   "language": "python",
   "name": "learn-env"
  },
  "language_info": {
   "codemirror_mode": {
    "name": "ipython",
    "version": 3
   },
   "file_extension": ".py",
   "mimetype": "text/x-python",
   "name": "python",
   "nbconvert_exporter": "python",
   "pygments_lexer": "ipython3",
   "version": "3.11.5"
  }
 },
 "nbformat": 4,
 "nbformat_minor": 5
}
